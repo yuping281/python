{
 "cells": [
  {
   "cell_type": "code",
   "execution_count": 7,
   "metadata": {},
   "outputs": [],
   "source": [
    "import tensorflow as tf"
   ]
  },
  {
   "cell_type": "code",
   "execution_count": 8,
   "metadata": {},
   "outputs": [],
   "source": [
    "import pandas as pd\n",
    "import numpy as np\n",
    "import matplotlib.pyplot as plt"
   ]
  },
  {
   "cell_type": "code",
   "execution_count": 9,
   "metadata": {},
   "outputs": [],
   "source": [
    "data = pd.read_csv('./Advertising.csv')"
   ]
  },
  {
   "cell_type": "code",
   "execution_count": 10,
   "metadata": {},
   "outputs": [
    {
     "data": {
      "text/html": [
       "<div>\n",
       "<style scoped>\n",
       "    .dataframe tbody tr th:only-of-type {\n",
       "        vertical-align: middle;\n",
       "    }\n",
       "\n",
       "    .dataframe tbody tr th {\n",
       "        vertical-align: top;\n",
       "    }\n",
       "\n",
       "    .dataframe thead th {\n",
       "        text-align: right;\n",
       "    }\n",
       "</style>\n",
       "<table border=\"1\" class=\"dataframe\">\n",
       "  <thead>\n",
       "    <tr style=\"text-align: right;\">\n",
       "      <th></th>\n",
       "      <th>Unnamed: 0</th>\n",
       "      <th>TV</th>\n",
       "      <th>radio</th>\n",
       "      <th>newspaper</th>\n",
       "      <th>sales</th>\n",
       "    </tr>\n",
       "  </thead>\n",
       "  <tbody>\n",
       "    <tr>\n",
       "      <th>0</th>\n",
       "      <td>1</td>\n",
       "      <td>230.1</td>\n",
       "      <td>37.8</td>\n",
       "      <td>69.2</td>\n",
       "      <td>22.1</td>\n",
       "    </tr>\n",
       "    <tr>\n",
       "      <th>1</th>\n",
       "      <td>2</td>\n",
       "      <td>44.5</td>\n",
       "      <td>39.3</td>\n",
       "      <td>45.1</td>\n",
       "      <td>10.4</td>\n",
       "    </tr>\n",
       "    <tr>\n",
       "      <th>2</th>\n",
       "      <td>3</td>\n",
       "      <td>17.2</td>\n",
       "      <td>45.9</td>\n",
       "      <td>69.3</td>\n",
       "      <td>9.3</td>\n",
       "    </tr>\n",
       "    <tr>\n",
       "      <th>3</th>\n",
       "      <td>4</td>\n",
       "      <td>151.5</td>\n",
       "      <td>41.3</td>\n",
       "      <td>58.5</td>\n",
       "      <td>18.5</td>\n",
       "    </tr>\n",
       "    <tr>\n",
       "      <th>4</th>\n",
       "      <td>5</td>\n",
       "      <td>180.8</td>\n",
       "      <td>10.8</td>\n",
       "      <td>58.4</td>\n",
       "      <td>12.9</td>\n",
       "    </tr>\n",
       "    <tr>\n",
       "      <th>...</th>\n",
       "      <td>...</td>\n",
       "      <td>...</td>\n",
       "      <td>...</td>\n",
       "      <td>...</td>\n",
       "      <td>...</td>\n",
       "    </tr>\n",
       "    <tr>\n",
       "      <th>195</th>\n",
       "      <td>196</td>\n",
       "      <td>38.2</td>\n",
       "      <td>3.7</td>\n",
       "      <td>13.8</td>\n",
       "      <td>7.6</td>\n",
       "    </tr>\n",
       "    <tr>\n",
       "      <th>196</th>\n",
       "      <td>197</td>\n",
       "      <td>94.2</td>\n",
       "      <td>4.9</td>\n",
       "      <td>8.1</td>\n",
       "      <td>9.7</td>\n",
       "    </tr>\n",
       "    <tr>\n",
       "      <th>197</th>\n",
       "      <td>198</td>\n",
       "      <td>177.0</td>\n",
       "      <td>9.3</td>\n",
       "      <td>6.4</td>\n",
       "      <td>12.8</td>\n",
       "    </tr>\n",
       "    <tr>\n",
       "      <th>198</th>\n",
       "      <td>199</td>\n",
       "      <td>283.6</td>\n",
       "      <td>42.0</td>\n",
       "      <td>66.2</td>\n",
       "      <td>25.5</td>\n",
       "    </tr>\n",
       "    <tr>\n",
       "      <th>199</th>\n",
       "      <td>200</td>\n",
       "      <td>232.1</td>\n",
       "      <td>8.6</td>\n",
       "      <td>8.7</td>\n",
       "      <td>13.4</td>\n",
       "    </tr>\n",
       "  </tbody>\n",
       "</table>\n",
       "<p>200 rows × 5 columns</p>\n",
       "</div>"
      ],
      "text/plain": [
       "     Unnamed: 0     TV  radio  newspaper  sales\n",
       "0             1  230.1   37.8       69.2   22.1\n",
       "1             2   44.5   39.3       45.1   10.4\n",
       "2             3   17.2   45.9       69.3    9.3\n",
       "3             4  151.5   41.3       58.5   18.5\n",
       "4             5  180.8   10.8       58.4   12.9\n",
       "..          ...    ...    ...        ...    ...\n",
       "195         196   38.2    3.7       13.8    7.6\n",
       "196         197   94.2    4.9        8.1    9.7\n",
       "197         198  177.0    9.3        6.4   12.8\n",
       "198         199  283.6   42.0       66.2   25.5\n",
       "199         200  232.1    8.6        8.7   13.4\n",
       "\n",
       "[200 rows x 5 columns]"
      ]
     },
     "execution_count": 10,
     "metadata": {},
     "output_type": "execute_result"
    }
   ],
   "source": [
    "data"
   ]
  },
  {
   "cell_type": "code",
   "execution_count": 11,
   "metadata": {},
   "outputs": [
    {
     "data": {
      "text/plain": [
       "<matplotlib.collections.PathCollection at 0x1a7cf287e88>"
      ]
     },
     "execution_count": 11,
     "metadata": {},
     "output_type": "execute_result"
    },
    {
     "data": {
      "image/png": "[encoded data removed]",
      "text/plain": [
       "<Figure size 432x288 with 1 Axes>"
      ]
     },
     "metadata": {
      "needs_background": "light"
     },
     "output_type": "display_data"
    }
   ],
   "source": [
    "plt.scatter(data.TV, data.sales)"
   ]
  },
  {
   "cell_type": "code",
   "execution_count": 12,
   "metadata": {},
   "outputs": [
    {
     "data": {
      "text/plain": [
       "<matplotlib.collections.PathCollection at 0x1a7cf37ef08>"
      ]
     },
     "execution_count": 12,
     "metadata": {},
     "output_type": "execute_result"
    },
    {
     "data": {
      "image/png": "[encoded data removed]",
      "text/plain": [
       "<Figure size 432x288 with 1 Axes>"
      ]
     },
     "metadata": {
      "needs_background": "light"
     },
     "output_type": "display_data"
    }
   ],
   "source": [
    "plt.scatter(data.radio, data.sales)"
   ]
  },
  {
   "cell_type": "code",
   "execution_count": 13,
   "metadata": {},
   "outputs": [
    {
     "data": {
      "text/plain": [
       "<matplotlib.collections.PathCollection at 0x1a7cf3aad88>"
      ]
     },
     "execution_count": 13,
     "metadata": {},
     "output_type": "execute_result"
    },
    {
     "data": {
      "image/png": "[encoded data removed]",
      "text/plain": [
       "<Figure size 432x288 with 1 Axes>"
      ]
     },
     "metadata": {
      "needs_background": "light"
     },
     "output_type": "display_data"
    }
   ],
   "source": [
    "plt.scatter(data.newspaper, data.sales)"
   ]
  },
  {
   "cell_type": "code",
   "execution_count": 14,
   "metadata": {
    "scrolled": false
   },
   "outputs": [],
   "source": [
    "x = data.iloc[:,1:-1]\n",
    "y = data.iloc[:,-1]"
   ]
  },
  {
   "cell_type": "code",
   "execution_count": 25,
   "metadata": {},
   "outputs": [],
   "source": [
    "model = tf.keras.Sequential([tf.keras.layers.Dense(10, input_shape=(3,), activation='relu'),\n",
    "                            tf.keras.layers.Dense(1)]\n",
    ")"
   ]
  },
  {
   "cell_type": "code",
   "execution_count": 26,
   "metadata": {},
   "outputs": [
    {
     "name": "stdout",
     "output_type": "stream",
     "text": [
      "Model: \"sequential\"\n",
      "_________________________________________________________________\n",
      "Layer (type)                 Output Shape              Param #   \n",
      "=================================================================\n",
      "dense (Dense)                (None, 10)                40        \n",
      "_________________________________________________________________\n",
      "dense_1 (Dense)              (None, 1)                 11        \n",
      "=================================================================\n",
      "Total params: 51\n",
      "Trainable params: 51\n",
      "Non-trainable params: 0\n",
      "_________________________________________________________________\n"
     ]
    }
   ],
   "source": [
    "model.summary()"
   ]
  },
  {
   "cell_type": "code",
   "execution_count": 27,
   "metadata": {},
   "outputs": [],
   "source": [
    "model.compile(optimizer='adam',\n",
    "              loss = 'mse'\n",
    ")"
   ]
  },
  {
   "cell_type": "code",
   "execution_count": 29,
   "metadata": {},
   "outputs": [
    {
     "name": "stdout",
     "output_type": "stream",
     "text": [
      "Epoch 1/100\n",
      "7/7 [==============================] - 0s 2ms/step - loss: 2691.0288\n",
      "Epoch 2/100\n",
      "7/7 [==============================] - 0s 2ms/step - loss: 2120.8044\n",
      "Epoch 3/100\n",
      "7/7 [==============================] - 0s 3ms/step - loss: 1637.5417\n",
      "Epoch 4/100\n",
      "7/7 [==============================] - 0s 3ms/step - loss: 1253.5453\n",
      "Epoch 5/100\n",
      "7/7 [==============================] - 0s 3ms/step - loss: 962.1832\n",
      "Epoch 6/100\n",
      "7/7 [==============================] - 0s 3ms/step - loss: 750.5327\n",
      "Epoch 7/100\n",
      "7/7 [==============================] - 0s 4ms/step - loss: 603.3392\n",
      "Epoch 8/100\n",
      "7/7 [==============================] - 0s 4ms/step - loss: 503.0155\n",
      "Epoch 9/100\n",
      "7/7 [==============================] - 0s 4ms/step - loss: 434.5732\n",
      "Epoch 10/100\n",
      "7/7 [==============================] - 0s 4ms/step - loss: 393.2154\n",
      "Epoch 11/100\n",
      "7/7 [==============================] - 0s 3ms/step - loss: 362.2896\n",
      "Epoch 12/100\n",
      "7/7 [==============================] - 0s 2ms/step - loss: 336.8339\n",
      "Epoch 13/100\n",
      "7/7 [==============================] - 0s 5ms/step - loss: 315.6244\n",
      "Epoch 14/100\n",
      "7/7 [==============================] - 0s 2ms/step - loss: 296.4064\n",
      "Epoch 15/100\n",
      "7/7 [==============================] - 0s 4ms/step - loss: 279.5996\n",
      "Epoch 16/100\n",
      "7/7 [==============================] - 0s 3ms/step - loss: 262.4240\n",
      "Epoch 17/100\n",
      "7/7 [==============================] - 0s 4ms/step - loss: 247.0133\n",
      "Epoch 18/100\n",
      "7/7 [==============================] - 0s 4ms/step - loss: 232.3933\n",
      "Epoch 19/100\n",
      "7/7 [==============================] - 0s 3ms/step - loss: 219.1208\n",
      "Epoch 20/100\n",
      "7/7 [==============================] - 0s 3ms/step - loss: 206.3894\n",
      "Epoch 21/100\n",
      "7/7 [==============================] - 0s 3ms/step - loss: 193.0991\n",
      "Epoch 22/100\n",
      "7/7 [==============================] - 0s 3ms/step - loss: 181.3864\n",
      "Epoch 23/100\n",
      "7/7 [==============================] - 0s 3ms/step - loss: 170.9819\n",
      "Epoch 24/100\n",
      "7/7 [==============================] - 0s 4ms/step - loss: 160.9391\n",
      "Epoch 25/100\n",
      "7/7 [==============================] - 0s 3ms/step - loss: 151.1231\n",
      "Epoch 26/100\n",
      "7/7 [==============================] - 0s 2ms/step - loss: 142.1091\n",
      "Epoch 27/100\n",
      "7/7 [==============================] - 0s 3ms/step - loss: 133.6720\n",
      "Epoch 28/100\n",
      "7/7 [==============================] - 0s 3ms/step - loss: 125.9892\n",
      "Epoch 29/100\n",
      "7/7 [==============================] - 0s 4ms/step - loss: 118.8725\n",
      "Epoch 30/100\n",
      "7/7 [==============================] - 0s 3ms/step - loss: 112.1103\n",
      "Epoch 31/100\n",
      "7/7 [==============================] - 0s 3ms/step - loss: 106.1237\n",
      "Epoch 32/100\n",
      "7/7 [==============================] - 0s 3ms/step - loss: 100.7908\n",
      "Epoch 33/100\n",
      "7/7 [==============================] - 0s 2ms/step - loss: 95.5639\n",
      "Epoch 34/100\n",
      "7/7 [==============================] - 0s 3ms/step - loss: 90.6140\n",
      "Epoch 35/100\n",
      "7/7 [==============================] - 0s 4ms/step - loss: 86.0834\n",
      "Epoch 36/100\n",
      "7/7 [==============================] - 0s 4ms/step - loss: 81.6682\n",
      "Epoch 37/100\n",
      "7/7 [==============================] - 0s 3ms/step - loss: 77.6407\n",
      "Epoch 38/100\n",
      "7/7 [==============================] - 0s 3ms/step - loss: 73.9766\n",
      "Epoch 39/100\n",
      "7/7 [==============================] - 0s 3ms/step - loss: 70.6025\n",
      "Epoch 40/100\n",
      "7/7 [==============================] - 0s 3ms/step - loss: 67.6771\n",
      "Epoch 41/100\n",
      "7/7 [==============================] - 0s 3ms/step - loss: 64.5687\n",
      "Epoch 42/100\n",
      "7/7 [==============================] - 0s 4ms/step - loss: 62.1244\n",
      "Epoch 43/100\n",
      "7/7 [==============================] - 0s 3ms/step - loss: 59.5208\n",
      "Epoch 44/100\n",
      "7/7 [==============================] - 0s 4ms/step - loss: 57.1203\n",
      "Epoch 45/100\n",
      "7/7 [==============================] - 0s 2ms/step - loss: 54.9867\n",
      "Epoch 46/100\n",
      "7/7 [==============================] - 0s 3ms/step - loss: 53.1496\n",
      "Epoch 47/100\n",
      "7/7 [==============================] - 0s 3ms/step - loss: 51.3688\n",
      "Epoch 48/100\n",
      "7/7 [==============================] - 0s 2ms/step - loss: 49.6714\n",
      "Epoch 49/100\n",
      "7/7 [==============================] - 0s 3ms/step - loss: 48.1511\n",
      "Epoch 50/100\n",
      "7/7 [==============================] - 0s 2ms/step - loss: 46.6016\n",
      "Epoch 51/100\n",
      "7/7 [==============================] - 0s 3ms/step - loss: 45.0754\n",
      "Epoch 52/100\n",
      "7/7 [==============================] - 0s 3ms/step - loss: 43.5746\n",
      "Epoch 53/100\n",
      "7/7 [==============================] - 0s 3ms/step - loss: 42.2035\n",
      "Epoch 54/100\n",
      "7/7 [==============================] - 0s 3ms/step - loss: 40.8344\n",
      "Epoch 55/100\n",
      "7/7 [==============================] - 0s 3ms/step - loss: 39.5117\n",
      "Epoch 56/100\n",
      "7/7 [==============================] - 0s 2ms/step - loss: 38.2863\n",
      "Epoch 57/100\n",
      "7/7 [==============================] - 0s 2ms/step - loss: 37.0422\n",
      "Epoch 58/100\n",
      "7/7 [==============================] - 0s 3ms/step - loss: 35.9683\n",
      "Epoch 59/100\n",
      "7/7 [==============================] - 0s 3ms/step - loss: 34.7651\n",
      "Epoch 60/100\n",
      "7/7 [==============================] - 0s 3ms/step - loss: 33.6704\n",
      "Epoch 61/100\n",
      "7/7 [==============================] - 0s 3ms/step - loss: 32.6134\n",
      "Epoch 62/100\n",
      "7/7 [==============================] - 0s 2ms/step - loss: 31.6141\n",
      "Epoch 63/100\n",
      "7/7 [==============================] - 0s 3ms/step - loss: 30.5425\n",
      "Epoch 64/100\n",
      "7/7 [==============================] - 0s 3ms/step - loss: 29.4894\n",
      "Epoch 65/100\n",
      "7/7 [==============================] - 0s 3ms/step - loss: 28.4457\n",
      "Epoch 66/100\n",
      "7/7 [==============================] - 0s 3ms/step - loss: 27.6606\n",
      "Epoch 67/100\n",
      "7/7 [==============================] - 0s 4ms/step - loss: 26.6821\n",
      "Epoch 68/100\n",
      "7/7 [==============================] - 0s 4ms/step - loss: 25.7725\n",
      "Epoch 69/100\n",
      "7/7 [==============================] - 0s 4ms/step - loss: 25.0567\n",
      "Epoch 70/100\n",
      "7/7 [==============================] - 0s 3ms/step - loss: 24.2643\n",
      "Epoch 71/100\n",
      "7/7 [==============================] - 0s 3ms/step - loss: 23.4827\n",
      "Epoch 72/100\n",
      "7/7 [==============================] - 0s 3ms/step - loss: 22.8191\n",
      "Epoch 73/100\n",
      "7/7 [==============================] - 0s 4ms/step - loss: 22.1372\n",
      "Epoch 74/100\n",
      "7/7 [==============================] - 0s 4ms/step - loss: 21.4520\n",
      "Epoch 75/100\n",
      "7/7 [==============================] - 0s 4ms/step - loss: 20.7620\n",
      "Epoch 76/100\n",
      "7/7 [==============================] - 0s 2ms/step - loss: 20.1463\n",
      "Epoch 77/100\n",
      "7/7 [==============================] - 0s 3ms/step - loss: 19.5445\n",
      "Epoch 78/100\n",
      "7/7 [==============================] - 0s 3ms/step - loss: 18.9864\n",
      "Epoch 79/100\n",
      "7/7 [==============================] - 0s 3ms/step - loss: 18.4433\n",
      "Epoch 80/100\n",
      "7/7 [==============================] - 0s 2ms/step - loss: 17.9375\n",
      "Epoch 81/100\n",
      "7/7 [==============================] - 0s 12ms/step - loss: 17.4355\n",
      "Epoch 82/100\n",
      "7/7 [==============================] - 0s 4ms/step - loss: 16.9724\n",
      "Epoch 83/100\n",
      "7/7 [==============================] - 0s 2ms/step - loss: 16.5323\n",
      "Epoch 84/100\n",
      "7/7 [==============================] - 0s 2ms/step - loss: 16.0872\n",
      "Epoch 85/100\n",
      "7/7 [==============================] - 0s 5ms/step - loss: 15.6588\n",
      "Epoch 86/100\n",
      "7/7 [==============================] - 0s 2ms/step - loss: 15.2326\n",
      "Epoch 87/100\n",
      "7/7 [==============================] - 0s 3ms/step - loss: 14.8320\n",
      "Epoch 88/100\n",
      "7/7 [==============================] - 0s 4ms/step - loss: 14.4464\n",
      "Epoch 89/100\n",
      "7/7 [==============================] - 0s 3ms/step - loss: 14.0519\n",
      "Epoch 90/100\n",
      "7/7 [==============================] - 0s 2ms/step - loss: 13.6827\n",
      "Epoch 91/100\n",
      "7/7 [==============================] - 0s 3ms/step - loss: 13.3182\n",
      "Epoch 92/100\n",
      "7/7 [==============================] - 0s 3ms/step - loss: 12.9505\n",
      "Epoch 93/100\n",
      "7/7 [==============================] - 0s 5ms/step - loss: 12.6326\n",
      "Epoch 94/100\n",
      "7/7 [==============================] - 0s 3ms/step - loss: 12.3194\n",
      "Epoch 95/100\n",
      "7/7 [==============================] - 0s 5ms/step - loss: 11.9687\n",
      "Epoch 96/100\n",
      "7/7 [==============================] - 0s 3ms/step - loss: 11.7209\n",
      "Epoch 97/100\n",
      "7/7 [==============================] - 0s 2ms/step - loss: 11.4453\n",
      "Epoch 98/100\n",
      "7/7 [==============================] - 0s 3ms/step - loss: 11.1802\n",
      "Epoch 99/100\n",
      "7/7 [==============================] - 0s 2ms/step - loss: 10.9413\n",
      "Epoch 100/100\n",
      "7/7 [==============================] - 0s 5ms/step - loss: 10.6999\n"
     ]
    },
    {
     "data": {
      "text/plain": [
       "<tensorflow.python.keras.callbacks.History at 0x1a7d15c7688>"
      ]
     },
     "execution_count": 29,
     "metadata": {},
     "output_type": "execute_result"
    }
   ],
   "source": [
    "model.fit(x,y,epochs=100)"
   ]
  },
  {
   "cell_type": "code",
   "execution_count": 30,
   "metadata": {},
   "outputs": [],
   "source": [
    "test = data.iloc[:10, 1:-1]"
   ]
  },
  {
   "cell_type": "code",
   "execution_count": 32,
   "metadata": {},
   "outputs": [
    {
     "data": {
      "text/plain": [
       "array([[22.810976 ],\n",
       "       [ 7.2987485],\n",
       "       [16.195005 ],\n",
       "       [18.306288 ],\n",
       "       [15.305951 ],\n",
       "       [18.730335 ],\n",
       "       [ 8.919388 ],\n",
       "       [10.568835 ],\n",
       "       [ 0.9955603],\n",
       "       [13.136014 ]], dtype=float32)"
      ]
     },
     "execution_count": 32,
     "metadata": {},
     "output_type": "execute_result"
    }
   ],
   "source": [
    "model.predict(test)"
   ]
  },
  {
   "cell_type": "code",
   "execution_count": 33,
   "metadata": {},
   "outputs": [],
   "source": [
    "test = data.iloc[:10, -1]"
   ]
  },
  {
   "cell_type": "code",
   "execution_count": 34,
   "metadata": {},
   "outputs": [
    {
     "data": {
      "text/plain": [
       "0    22.1\n",
       "1    10.4\n",
       "2     9.3\n",
       "3    18.5\n",
       "4    12.9\n",
       "5     7.2\n",
       "6    11.8\n",
       "7    13.2\n",
       "8     4.8\n",
       "9    10.6\n",
       "Name: sales, dtype: float64"
      ]
     },
     "execution_count": 34,
     "metadata": {},
     "output_type": "execute_result"
    }
   ],
   "source": [
    "test"
   ]
  },
  {
   "cell_type": "code",
   "execution_count": null,
   "metadata": {},
   "outputs": [],
   "source": []
  }
 ],
 "metadata": {
  "kernelspec": {
   "display_name": "Python 3",
   "language": "python",
   "name": "python3"
  },
  "language_info": {
   "codemirror_mode": {
    "name": "ipython",
    "version": 3
   },
   "file_extension": ".py",
   "mimetype": "text/x-python",
   "name": "python",
   "nbconvert_exporter": "python",
   "pygments_lexer": "ipython3",
   "version": "3.7.6"
  }
 },
 "nbformat": 4,
 "nbformat_minor": 4
}
